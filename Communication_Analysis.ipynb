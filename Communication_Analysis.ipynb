{
 "cells": [
  {
   "cell_type": "code",
   "execution_count": 1,
   "id": "62969781",
   "metadata": {},
   "outputs": [],
   "source": [
    "import pandas as pd"
   ]
  },
  {
   "cell_type": "code",
   "execution_count": 2,
   "id": "c72380f7",
   "metadata": {},
   "outputs": [
    {
     "data": {
      "text/plain": [
       "(145941, 15)"
      ]
     },
     "execution_count": 2,
     "metadata": {},
     "output_type": "execute_result"
    }
   ],
   "source": [
    "data = pd.read_csv('communications.csv')\n",
    "data.shape #(145941, 15)"
   ]
  },
  {
   "cell_type": "code",
   "execution_count": 3,
   "id": "245b1cb3",
   "metadata": {},
   "outputs": [
    {
     "data": {
      "text/html": [
       "<div>\n",
       "<style scoped>\n",
       "    .dataframe tbody tr th:only-of-type {\n",
       "        vertical-align: middle;\n",
       "    }\n",
       "\n",
       "    .dataframe tbody tr th {\n",
       "        vertical-align: top;\n",
       "    }\n",
       "\n",
       "    .dataframe thead th {\n",
       "        text-align: right;\n",
       "    }\n",
       "</style>\n",
       "<table border=\"1\" class=\"dataframe\">\n",
       "  <thead>\n",
       "    <tr style=\"text-align: right;\">\n",
       "      <th></th>\n",
       "      <th>message_id</th>\n",
       "      <th>customer_id</th>\n",
       "      <th>sent_at</th>\n",
       "      <th>clicked</th>\n",
       "      <th>converted</th>\n",
       "      <th>client_id</th>\n",
       "      <th>gender</th>\n",
       "      <th>customer_country</th>\n",
       "      <th>age</th>\n",
       "      <th>created_at</th>\n",
       "      <th>client_name</th>\n",
       "      <th>product_type</th>\n",
       "      <th>client_country</th>\n",
       "      <th>channel</th>\n",
       "      <th>message_number</th>\n",
       "    </tr>\n",
       "  </thead>\n",
       "  <tbody>\n",
       "    <tr>\n",
       "      <th>count</th>\n",
       "      <td>145941</td>\n",
       "      <td>145941</td>\n",
       "      <td>145941</td>\n",
       "      <td>145941.000000</td>\n",
       "      <td>145941.000000</td>\n",
       "      <td>145941</td>\n",
       "      <td>114265</td>\n",
       "      <td>115795</td>\n",
       "      <td>123921.000000</td>\n",
       "      <td>145941</td>\n",
       "      <td>145941</td>\n",
       "      <td>145941</td>\n",
       "      <td>145941</td>\n",
       "      <td>145941</td>\n",
       "      <td>145941.000000</td>\n",
       "    </tr>\n",
       "    <tr>\n",
       "      <th>unique</th>\n",
       "      <td>145941</td>\n",
       "      <td>9751</td>\n",
       "      <td>145937</td>\n",
       "      <td>NaN</td>\n",
       "      <td>NaN</td>\n",
       "      <td>8</td>\n",
       "      <td>2</td>\n",
       "      <td>3</td>\n",
       "      <td>NaN</td>\n",
       "      <td>9751</td>\n",
       "      <td>8</td>\n",
       "      <td>3</td>\n",
       "      <td>3</td>\n",
       "      <td>2</td>\n",
       "      <td>NaN</td>\n",
       "    </tr>\n",
       "    <tr>\n",
       "      <th>top</th>\n",
       "      <td>28d82c62db5989d9441351f58738c6a8</td>\n",
       "      <td>a40ee72e10612613885de1208e1b9500</td>\n",
       "      <td>2021-09-29 09:49:26.507000+00:00</td>\n",
       "      <td>NaN</td>\n",
       "      <td>NaN</td>\n",
       "      <td>cfcd208495d565ef66e7dff9f98764da</td>\n",
       "      <td>M</td>\n",
       "      <td>UK</td>\n",
       "      <td>NaN</td>\n",
       "      <td>2021-01-01 00:10:23.616000+00:00</td>\n",
       "      <td>SwanPay</td>\n",
       "      <td>BNPL</td>\n",
       "      <td>UK</td>\n",
       "      <td>Email</td>\n",
       "      <td>NaN</td>\n",
       "    </tr>\n",
       "    <tr>\n",
       "      <th>freq</th>\n",
       "      <td>1</td>\n",
       "      <td>39</td>\n",
       "      <td>2</td>\n",
       "      <td>NaN</td>\n",
       "      <td>NaN</td>\n",
       "      <td>36110</td>\n",
       "      <td>57655</td>\n",
       "      <td>49146</td>\n",
       "      <td>NaN</td>\n",
       "      <td>39</td>\n",
       "      <td>36110</td>\n",
       "      <td>69382</td>\n",
       "      <td>82254</td>\n",
       "      <td>90849</td>\n",
       "      <td>NaN</td>\n",
       "    </tr>\n",
       "    <tr>\n",
       "      <th>mean</th>\n",
       "      <td>NaN</td>\n",
       "      <td>NaN</td>\n",
       "      <td>NaN</td>\n",
       "      <td>0.064231</td>\n",
       "      <td>0.021529</td>\n",
       "      <td>NaN</td>\n",
       "      <td>NaN</td>\n",
       "      <td>NaN</td>\n",
       "      <td>43.041857</td>\n",
       "      <td>NaN</td>\n",
       "      <td>NaN</td>\n",
       "      <td>NaN</td>\n",
       "      <td>NaN</td>\n",
       "      <td>NaN</td>\n",
       "      <td>11.730898</td>\n",
       "    </tr>\n",
       "    <tr>\n",
       "      <th>std</th>\n",
       "      <td>NaN</td>\n",
       "      <td>NaN</td>\n",
       "      <td>NaN</td>\n",
       "      <td>0.245166</td>\n",
       "      <td>0.145141</td>\n",
       "      <td>NaN</td>\n",
       "      <td>NaN</td>\n",
       "      <td>NaN</td>\n",
       "      <td>17.772985</td>\n",
       "      <td>NaN</td>\n",
       "      <td>NaN</td>\n",
       "      <td>NaN</td>\n",
       "      <td>NaN</td>\n",
       "      <td>NaN</td>\n",
       "      <td>8.639549</td>\n",
       "    </tr>\n",
       "    <tr>\n",
       "      <th>min</th>\n",
       "      <td>NaN</td>\n",
       "      <td>NaN</td>\n",
       "      <td>NaN</td>\n",
       "      <td>0.000000</td>\n",
       "      <td>0.000000</td>\n",
       "      <td>NaN</td>\n",
       "      <td>NaN</td>\n",
       "      <td>NaN</td>\n",
       "      <td>18.000000</td>\n",
       "      <td>NaN</td>\n",
       "      <td>NaN</td>\n",
       "      <td>NaN</td>\n",
       "      <td>NaN</td>\n",
       "      <td>NaN</td>\n",
       "      <td>1.000000</td>\n",
       "    </tr>\n",
       "    <tr>\n",
       "      <th>25%</th>\n",
       "      <td>NaN</td>\n",
       "      <td>NaN</td>\n",
       "      <td>NaN</td>\n",
       "      <td>0.000000</td>\n",
       "      <td>0.000000</td>\n",
       "      <td>NaN</td>\n",
       "      <td>NaN</td>\n",
       "      <td>NaN</td>\n",
       "      <td>26.000000</td>\n",
       "      <td>NaN</td>\n",
       "      <td>NaN</td>\n",
       "      <td>NaN</td>\n",
       "      <td>NaN</td>\n",
       "      <td>NaN</td>\n",
       "      <td>5.000000</td>\n",
       "    </tr>\n",
       "    <tr>\n",
       "      <th>50%</th>\n",
       "      <td>NaN</td>\n",
       "      <td>NaN</td>\n",
       "      <td>NaN</td>\n",
       "      <td>0.000000</td>\n",
       "      <td>0.000000</td>\n",
       "      <td>NaN</td>\n",
       "      <td>NaN</td>\n",
       "      <td>NaN</td>\n",
       "      <td>44.000000</td>\n",
       "      <td>NaN</td>\n",
       "      <td>NaN</td>\n",
       "      <td>NaN</td>\n",
       "      <td>NaN</td>\n",
       "      <td>NaN</td>\n",
       "      <td>10.000000</td>\n",
       "    </tr>\n",
       "    <tr>\n",
       "      <th>75%</th>\n",
       "      <td>NaN</td>\n",
       "      <td>NaN</td>\n",
       "      <td>NaN</td>\n",
       "      <td>0.000000</td>\n",
       "      <td>0.000000</td>\n",
       "      <td>NaN</td>\n",
       "      <td>NaN</td>\n",
       "      <td>NaN</td>\n",
       "      <td>55.000000</td>\n",
       "      <td>NaN</td>\n",
       "      <td>NaN</td>\n",
       "      <td>NaN</td>\n",
       "      <td>NaN</td>\n",
       "      <td>NaN</td>\n",
       "      <td>17.000000</td>\n",
       "    </tr>\n",
       "    <tr>\n",
       "      <th>max</th>\n",
       "      <td>NaN</td>\n",
       "      <td>NaN</td>\n",
       "      <td>NaN</td>\n",
       "      <td>1.000000</td>\n",
       "      <td>1.000000</td>\n",
       "      <td>NaN</td>\n",
       "      <td>NaN</td>\n",
       "      <td>NaN</td>\n",
       "      <td>96.000000</td>\n",
       "      <td>NaN</td>\n",
       "      <td>NaN</td>\n",
       "      <td>NaN</td>\n",
       "      <td>NaN</td>\n",
       "      <td>NaN</td>\n",
       "      <td>39.000000</td>\n",
       "    </tr>\n",
       "  </tbody>\n",
       "</table>\n",
       "</div>"
      ],
      "text/plain": [
       "                              message_id                       customer_id  \\\n",
       "count                             145941                            145941   \n",
       "unique                            145941                              9751   \n",
       "top     28d82c62db5989d9441351f58738c6a8  a40ee72e10612613885de1208e1b9500   \n",
       "freq                                   1                                39   \n",
       "mean                                 NaN                               NaN   \n",
       "std                                  NaN                               NaN   \n",
       "min                                  NaN                               NaN   \n",
       "25%                                  NaN                               NaN   \n",
       "50%                                  NaN                               NaN   \n",
       "75%                                  NaN                               NaN   \n",
       "max                                  NaN                               NaN   \n",
       "\n",
       "                                 sent_at        clicked      converted  \\\n",
       "count                             145941  145941.000000  145941.000000   \n",
       "unique                            145937            NaN            NaN   \n",
       "top     2021-09-29 09:49:26.507000+00:00            NaN            NaN   \n",
       "freq                                   2            NaN            NaN   \n",
       "mean                                 NaN       0.064231       0.021529   \n",
       "std                                  NaN       0.245166       0.145141   \n",
       "min                                  NaN       0.000000       0.000000   \n",
       "25%                                  NaN       0.000000       0.000000   \n",
       "50%                                  NaN       0.000000       0.000000   \n",
       "75%                                  NaN       0.000000       0.000000   \n",
       "max                                  NaN       1.000000       1.000000   \n",
       "\n",
       "                               client_id  gender customer_country  \\\n",
       "count                             145941  114265           115795   \n",
       "unique                                 8       2                3   \n",
       "top     cfcd208495d565ef66e7dff9f98764da       M               UK   \n",
       "freq                               36110   57655            49146   \n",
       "mean                                 NaN     NaN              NaN   \n",
       "std                                  NaN     NaN              NaN   \n",
       "min                                  NaN     NaN              NaN   \n",
       "25%                                  NaN     NaN              NaN   \n",
       "50%                                  NaN     NaN              NaN   \n",
       "75%                                  NaN     NaN              NaN   \n",
       "max                                  NaN     NaN              NaN   \n",
       "\n",
       "                  age                        created_at client_name  \\\n",
       "count   123921.000000                            145941      145941   \n",
       "unique            NaN                              9751           8   \n",
       "top               NaN  2021-01-01 00:10:23.616000+00:00     SwanPay   \n",
       "freq              NaN                                39       36110   \n",
       "mean        43.041857                               NaN         NaN   \n",
       "std         17.772985                               NaN         NaN   \n",
       "min         18.000000                               NaN         NaN   \n",
       "25%         26.000000                               NaN         NaN   \n",
       "50%         44.000000                               NaN         NaN   \n",
       "75%         55.000000                               NaN         NaN   \n",
       "max         96.000000                               NaN         NaN   \n",
       "\n",
       "       product_type client_country channel  message_number  \n",
       "count        145941         145941  145941   145941.000000  \n",
       "unique            3              3       2             NaN  \n",
       "top            BNPL             UK   Email             NaN  \n",
       "freq          69382          82254   90849             NaN  \n",
       "mean            NaN            NaN     NaN       11.730898  \n",
       "std             NaN            NaN     NaN        8.639549  \n",
       "min             NaN            NaN     NaN        1.000000  \n",
       "25%             NaN            NaN     NaN        5.000000  \n",
       "50%             NaN            NaN     NaN       10.000000  \n",
       "75%             NaN            NaN     NaN       17.000000  \n",
       "max             NaN            NaN     NaN       39.000000  "
      ]
     },
     "execution_count": 3,
     "metadata": {},
     "output_type": "execute_result"
    }
   ],
   "source": [
    "data.describe(include='all')"
   ]
  },
  {
   "cell_type": "code",
   "execution_count": 4,
   "id": "e8f8fc8c",
   "metadata": {},
   "outputs": [
    {
     "name": "stdout",
     "output_type": "stream",
     "text": [
      "<class 'pandas.core.frame.DataFrame'>\n",
      "RangeIndex: 145941 entries, 0 to 145940\n",
      "Data columns (total 15 columns):\n",
      " #   Column            Non-Null Count   Dtype  \n",
      "---  ------            --------------   -----  \n",
      " 0   message_id        145941 non-null  object \n",
      " 1   customer_id       145941 non-null  object \n",
      " 2   sent_at           145941 non-null  object \n",
      " 3   clicked           145941 non-null  int64  \n",
      " 4   converted         145941 non-null  int64  \n",
      " 5   client_id         145941 non-null  object \n",
      " 6   gender            114265 non-null  object \n",
      " 7   customer_country  115795 non-null  object \n",
      " 8   age               123921 non-null  float64\n",
      " 9   created_at        145941 non-null  object \n",
      " 10  client_name       145941 non-null  object \n",
      " 11  product_type      145941 non-null  object \n",
      " 12  client_country    145941 non-null  object \n",
      " 13  channel           145941 non-null  object \n",
      " 14  message_number    145941 non-null  float64\n",
      "dtypes: float64(2), int64(2), object(11)\n",
      "memory usage: 16.7+ MB\n"
     ]
    }
   ],
   "source": [
    "data.info()"
   ]
  },
  {
   "cell_type": "code",
   "execution_count": 5,
   "id": "3f33a4aa",
   "metadata": {},
   "outputs": [
    {
     "data": {
      "text/plain": [
       "dtype('int32')"
      ]
     },
     "execution_count": 5,
     "metadata": {},
     "output_type": "execute_result"
    }
   ],
   "source": [
    "data['message_number'] = data['message_number'].astype(int)\n",
    "data['message_number'].dtype"
   ]
  },
  {
   "cell_type": "code",
   "execution_count": 6,
   "id": "720afde2",
   "metadata": {},
   "outputs": [
    {
     "data": {
      "text/plain": [
       "31676"
      ]
     },
     "execution_count": 6,
     "metadata": {},
     "output_type": "execute_result"
    }
   ],
   "source": [
    "data['gender'].isnull().sum()"
   ]
  },
  {
   "cell_type": "code",
   "execution_count": 7,
   "id": "e0b51074",
   "metadata": {},
   "outputs": [
    {
     "data": {
      "text/plain": [
       "30146"
      ]
     },
     "execution_count": 7,
     "metadata": {},
     "output_type": "execute_result"
    }
   ],
   "source": [
    "data['customer_country'].isnull().sum()"
   ]
  },
  {
   "cell_type": "code",
   "execution_count": 8,
   "id": "86596b68",
   "metadata": {},
   "outputs": [
    {
     "data": {
      "text/plain": [
       "22020"
      ]
     },
     "execution_count": 8,
     "metadata": {},
     "output_type": "execute_result"
    }
   ],
   "source": [
    "data['age'].isnull().sum()"
   ]
  },
  {
   "cell_type": "code",
   "execution_count": 9,
   "id": "76f57962",
   "metadata": {},
   "outputs": [
    {
     "data": {
      "text/plain": [
       "0"
      ]
     },
     "execution_count": 9,
     "metadata": {},
     "output_type": "execute_result"
    }
   ],
   "source": [
    "data.duplicated().sum()"
   ]
  },
  {
   "cell_type": "code",
   "execution_count": 10,
   "id": "38ecd21a",
   "metadata": {},
   "outputs": [
    {
     "data": {
      "text/html": [
       "<div>\n",
       "<style scoped>\n",
       "    .dataframe tbody tr th:only-of-type {\n",
       "        vertical-align: middle;\n",
       "    }\n",
       "\n",
       "    .dataframe tbody tr th {\n",
       "        vertical-align: top;\n",
       "    }\n",
       "\n",
       "    .dataframe thead th {\n",
       "        text-align: right;\n",
       "    }\n",
       "</style>\n",
       "<table border=\"1\" class=\"dataframe\">\n",
       "  <thead>\n",
       "    <tr style=\"text-align: right;\">\n",
       "      <th></th>\n",
       "      <th>message_id</th>\n",
       "      <th>customer_id</th>\n",
       "      <th>sent_at</th>\n",
       "      <th>clicked</th>\n",
       "      <th>converted</th>\n",
       "      <th>client_id</th>\n",
       "      <th>gender</th>\n",
       "      <th>customer_country</th>\n",
       "      <th>age</th>\n",
       "      <th>created_at</th>\n",
       "      <th>client_name</th>\n",
       "      <th>product_type</th>\n",
       "      <th>client_country</th>\n",
       "      <th>channel</th>\n",
       "      <th>message_number</th>\n",
       "    </tr>\n",
       "  </thead>\n",
       "  <tbody>\n",
       "    <tr>\n",
       "      <th>0</th>\n",
       "      <td>28d82c62db5989d9441351f58738c6a8</td>\n",
       "      <td>f13e966f9dc1e2aa7bffec6c9efa8e11</td>\n",
       "      <td>2021-01-04 10:03:16.376000+00:00</td>\n",
       "      <td>0</td>\n",
       "      <td>0</td>\n",
       "      <td>cfcd208495d565ef66e7dff9f98764da</td>\n",
       "      <td>F</td>\n",
       "      <td>NaN</td>\n",
       "      <td>51.0</td>\n",
       "      <td>2021-01-03 15:58:50.376000+00:00</td>\n",
       "      <td>SwanPay</td>\n",
       "      <td>BNPL</td>\n",
       "      <td>UK</td>\n",
       "      <td>SMS</td>\n",
       "      <td>1</td>\n",
       "    </tr>\n",
       "    <tr>\n",
       "      <th>1</th>\n",
       "      <td>0f98a1bbf7f2b66f420816a65c8d9b77</td>\n",
       "      <td>f13e966f9dc1e2aa7bffec6c9efa8e11</td>\n",
       "      <td>2021-01-12 08:34:09.376000+00:00</td>\n",
       "      <td>0</td>\n",
       "      <td>0</td>\n",
       "      <td>cfcd208495d565ef66e7dff9f98764da</td>\n",
       "      <td>F</td>\n",
       "      <td>NaN</td>\n",
       "      <td>51.0</td>\n",
       "      <td>2021-01-03 15:58:50.376000+00:00</td>\n",
       "      <td>SwanPay</td>\n",
       "      <td>BNPL</td>\n",
       "      <td>UK</td>\n",
       "      <td>SMS</td>\n",
       "      <td>2</td>\n",
       "    </tr>\n",
       "    <tr>\n",
       "      <th>2</th>\n",
       "      <td>97f9ed967d2334ce0b4ebfcfc9b5c25c</td>\n",
       "      <td>f13e966f9dc1e2aa7bffec6c9efa8e11</td>\n",
       "      <td>2021-01-19 08:58:11.376000+00:00</td>\n",
       "      <td>0</td>\n",
       "      <td>0</td>\n",
       "      <td>cfcd208495d565ef66e7dff9f98764da</td>\n",
       "      <td>F</td>\n",
       "      <td>NaN</td>\n",
       "      <td>51.0</td>\n",
       "      <td>2021-01-03 15:58:50.376000+00:00</td>\n",
       "      <td>SwanPay</td>\n",
       "      <td>BNPL</td>\n",
       "      <td>UK</td>\n",
       "      <td>Email</td>\n",
       "      <td>3</td>\n",
       "    </tr>\n",
       "  </tbody>\n",
       "</table>\n",
       "</div>"
      ],
      "text/plain": [
       "                         message_id                       customer_id  \\\n",
       "0  28d82c62db5989d9441351f58738c6a8  f13e966f9dc1e2aa7bffec6c9efa8e11   \n",
       "1  0f98a1bbf7f2b66f420816a65c8d9b77  f13e966f9dc1e2aa7bffec6c9efa8e11   \n",
       "2  97f9ed967d2334ce0b4ebfcfc9b5c25c  f13e966f9dc1e2aa7bffec6c9efa8e11   \n",
       "\n",
       "                            sent_at  clicked  converted  \\\n",
       "0  2021-01-04 10:03:16.376000+00:00        0          0   \n",
       "1  2021-01-12 08:34:09.376000+00:00        0          0   \n",
       "2  2021-01-19 08:58:11.376000+00:00        0          0   \n",
       "\n",
       "                          client_id gender customer_country   age  \\\n",
       "0  cfcd208495d565ef66e7dff9f98764da      F              NaN  51.0   \n",
       "1  cfcd208495d565ef66e7dff9f98764da      F              NaN  51.0   \n",
       "2  cfcd208495d565ef66e7dff9f98764da      F              NaN  51.0   \n",
       "\n",
       "                         created_at client_name product_type client_country  \\\n",
       "0  2021-01-03 15:58:50.376000+00:00     SwanPay         BNPL             UK   \n",
       "1  2021-01-03 15:58:50.376000+00:00     SwanPay         BNPL             UK   \n",
       "2  2021-01-03 15:58:50.376000+00:00     SwanPay         BNPL             UK   \n",
       "\n",
       "  channel  message_number  \n",
       "0     SMS               1  \n",
       "1     SMS               2  \n",
       "2   Email               3  "
      ]
     },
     "execution_count": 10,
     "metadata": {},
     "output_type": "execute_result"
    }
   ],
   "source": [
    "data.head(3)"
   ]
  },
  {
   "cell_type": "code",
   "execution_count": 11,
   "id": "4472ec0b",
   "metadata": {},
   "outputs": [],
   "source": [
    "pd.options.display.float_format = '{:,.0f}'.format"
   ]
  },
  {
   "cell_type": "code",
   "execution_count": 12,
   "id": "25d299eb",
   "metadata": {},
   "outputs": [
    {
     "data": {
      "text/html": [
       "<div>\n",
       "<style scoped>\n",
       "    .dataframe tbody tr th:only-of-type {\n",
       "        vertical-align: middle;\n",
       "    }\n",
       "\n",
       "    .dataframe tbody tr th {\n",
       "        vertical-align: top;\n",
       "    }\n",
       "\n",
       "    .dataframe thead th {\n",
       "        text-align: right;\n",
       "    }\n",
       "</style>\n",
       "<table border=\"1\" class=\"dataframe\">\n",
       "  <thead>\n",
       "    <tr style=\"text-align: right;\">\n",
       "      <th></th>\n",
       "      <th>message_id</th>\n",
       "      <th>customer_id</th>\n",
       "      <th>sent_at</th>\n",
       "      <th>clicked</th>\n",
       "      <th>converted</th>\n",
       "      <th>client_id</th>\n",
       "      <th>gender</th>\n",
       "      <th>customer_country</th>\n",
       "      <th>age</th>\n",
       "      <th>created_at</th>\n",
       "      <th>client_name</th>\n",
       "      <th>product_type</th>\n",
       "      <th>client_country</th>\n",
       "      <th>channel</th>\n",
       "      <th>message_number</th>\n",
       "    </tr>\n",
       "  </thead>\n",
       "  <tbody>\n",
       "    <tr>\n",
       "      <th>0</th>\n",
       "      <td>28d82c62db5989d9441351f58738c6a8</td>\n",
       "      <td>f13e966f9dc1e2aa7bffec6c9efa8e11</td>\n",
       "      <td>2021-01-04 10:03:16.376000+00:00</td>\n",
       "      <td>0</td>\n",
       "      <td>0</td>\n",
       "      <td>cfcd208495d565ef66e7dff9f98764da</td>\n",
       "      <td>F</td>\n",
       "      <td>NaN</td>\n",
       "      <td>51</td>\n",
       "      <td>2021-01-03 15:58:50.376000+00:00</td>\n",
       "      <td>SwanPay</td>\n",
       "      <td>BNPL</td>\n",
       "      <td>UK</td>\n",
       "      <td>SMS</td>\n",
       "      <td>1</td>\n",
       "    </tr>\n",
       "  </tbody>\n",
       "</table>\n",
       "</div>"
      ],
      "text/plain": [
       "                         message_id                       customer_id  \\\n",
       "0  28d82c62db5989d9441351f58738c6a8  f13e966f9dc1e2aa7bffec6c9efa8e11   \n",
       "\n",
       "                            sent_at  clicked  converted  \\\n",
       "0  2021-01-04 10:03:16.376000+00:00        0          0   \n",
       "\n",
       "                          client_id gender customer_country  age  \\\n",
       "0  cfcd208495d565ef66e7dff9f98764da      F              NaN   51   \n",
       "\n",
       "                         created_at client_name product_type client_country  \\\n",
       "0  2021-01-03 15:58:50.376000+00:00     SwanPay         BNPL             UK   \n",
       "\n",
       "  channel  message_number  \n",
       "0     SMS               1  "
      ]
     },
     "execution_count": 12,
     "metadata": {},
     "output_type": "execute_result"
    }
   ],
   "source": [
    "data.head(1)"
   ]
  },
  {
   "cell_type": "code",
   "execution_count": 13,
   "id": "52e854dd",
   "metadata": {},
   "outputs": [
    {
     "data": {
      "text/plain": [
       "M      57655\n",
       "F      56610\n",
       "NaN    31676\n",
       "Name: gender, dtype: int64"
      ]
     },
     "execution_count": 13,
     "metadata": {},
     "output_type": "execute_result"
    }
   ],
   "source": [
    "data['gender'].value_counts(dropna=False)"
   ]
  },
  {
   "cell_type": "code",
   "execution_count": 14,
   "id": "a6c53517",
   "metadata": {},
   "outputs": [
    {
     "data": {
      "text/plain": [
       "0    136567\n",
       "1      9374\n",
       "Name: clicked, dtype: int64"
      ]
     },
     "execution_count": 14,
     "metadata": {},
     "output_type": "execute_result"
    }
   ],
   "source": [
    "data['clicked'].value_counts(dropna=False)"
   ]
  },
  {
   "cell_type": "code",
   "execution_count": 15,
   "id": "dab59f7c",
   "metadata": {},
   "outputs": [
    {
     "data": {
      "text/plain": [
       "0    142799\n",
       "1      3142\n",
       "Name: converted, dtype: int64"
      ]
     },
     "execution_count": 15,
     "metadata": {},
     "output_type": "execute_result"
    }
   ],
   "source": [
    "data['converted'].value_counts(dropna=False)"
   ]
  },
  {
   "cell_type": "code",
   "execution_count": 16,
   "id": "b1e6b1e4",
   "metadata": {},
   "outputs": [
    {
     "data": {
      "text/plain": [
       "UK     49146\n",
       "CA     33911\n",
       "NZ     32738\n",
       "NaN    30146\n",
       "Name: customer_country, dtype: int64"
      ]
     },
     "execution_count": 16,
     "metadata": {},
     "output_type": "execute_result"
    }
   ],
   "source": [
    "data['customer_country'].value_counts(dropna=False)"
   ]
  },
  {
   "cell_type": "code",
   "execution_count": 17,
   "id": "369219a9",
   "metadata": {},
   "outputs": [
    {
     "data": {
      "text/plain": [
       "Email    90849\n",
       "SMS      55092\n",
       "Name: channel, dtype: int64"
      ]
     },
     "execution_count": 17,
     "metadata": {},
     "output_type": "execute_result"
    }
   ],
   "source": [
    "data['channel'].value_counts(dropna=False)"
   ]
  },
  {
   "cell_type": "code",
   "execution_count": null,
   "id": "e351b930",
   "metadata": {},
   "outputs": [],
   "source": []
  },
  {
   "cell_type": "code",
   "execution_count": null,
   "id": "b57e2585",
   "metadata": {},
   "outputs": [],
   "source": [
    "#Handling Missing Values"
   ]
  },
  {
   "cell_type": "code",
   "execution_count": 18,
   "id": "4205d325",
   "metadata": {},
   "outputs": [
    {
     "data": {
      "text/plain": [
       "(22020, 15)"
      ]
     },
     "execution_count": 18,
     "metadata": {},
     "output_type": "execute_result"
    }
   ],
   "source": [
    "no_age = data[data['age'].isnull()]\n",
    "no_age.shape"
   ]
  },
  {
   "cell_type": "code",
   "execution_count": 19,
   "id": "b1355fa5",
   "metadata": {},
   "outputs": [
    {
     "data": {
      "text/plain": [
       "15.108845355314818"
      ]
     },
     "execution_count": 19,
     "metadata": {},
     "output_type": "execute_result"
    }
   ],
   "source": [
    "(22050/145941)*100"
   ]
  },
  {
   "cell_type": "code",
   "execution_count": 20,
   "id": "64565a63",
   "metadata": {},
   "outputs": [
    {
     "data": {
      "text/plain": [
       "F      8248\n",
       "M      7782\n",
       "NaN    5990\n",
       "Name: gender, dtype: int64"
      ]
     },
     "execution_count": 20,
     "metadata": {},
     "output_type": "execute_result"
    }
   ],
   "source": [
    "no_age['gender'].value_counts(dropna=False)"
   ]
  },
  {
   "cell_type": "code",
   "execution_count": 21,
   "id": "ad99738e",
   "metadata": {},
   "outputs": [
    {
     "data": {
      "text/plain": [
       "0    20806\n",
       "1     1214\n",
       "Name: clicked, dtype: int64"
      ]
     },
     "execution_count": 21,
     "metadata": {},
     "output_type": "execute_result"
    }
   ],
   "source": [
    "no_age['clicked'].value_counts(dropna=False)"
   ]
  },
  {
   "cell_type": "code",
   "execution_count": 22,
   "id": "fa70b37e",
   "metadata": {},
   "outputs": [
    {
     "data": {
      "text/plain": [
       "0    21664\n",
       "1      356\n",
       "Name: converted, dtype: int64"
      ]
     },
     "execution_count": 22,
     "metadata": {},
     "output_type": "execute_result"
    }
   ],
   "source": [
    "no_age['converted'].value_counts(dropna=False)"
   ]
  },
  {
   "cell_type": "code",
   "execution_count": 23,
   "id": "17374865",
   "metadata": {},
   "outputs": [
    {
     "data": {
      "text/plain": [
       "NaN    22020\n",
       "51     11736\n",
       "24      4499\n",
       "22      4478\n",
       "25      4291\n",
       "       ...  \n",
       "91       148\n",
       "95       131\n",
       "94       100\n",
       "93        85\n",
       "96        10\n",
       "Name: age, Length: 80, dtype: int64"
      ]
     },
     "execution_count": 23,
     "metadata": {},
     "output_type": "execute_result"
    }
   ],
   "source": [
    "data['age'].value_counts(dropna=False)"
   ]
  },
  {
   "cell_type": "code",
   "execution_count": 24,
   "id": "54d2793d",
   "metadata": {},
   "outputs": [
    {
     "data": {
      "text/plain": [
       "dtype('float64')"
      ]
     },
     "execution_count": 24,
     "metadata": {},
     "output_type": "execute_result"
    }
   ],
   "source": [
    "data['age'].dtype"
   ]
  },
  {
   "cell_type": "code",
   "execution_count": 25,
   "id": "df4a5b0d",
   "metadata": {},
   "outputs": [
    {
     "data": {
      "text/plain": [
       "dtype('int32')"
      ]
     },
     "execution_count": 25,
     "metadata": {},
     "output_type": "execute_result"
    }
   ],
   "source": [
    "data['age'] = data['age'].fillna(0).astype(int)\n",
    "data['age'].dtype"
   ]
  },
  {
   "cell_type": "code",
   "execution_count": 26,
   "id": "b6d81f64",
   "metadata": {},
   "outputs": [
    {
     "data": {
      "text/plain": [
       "0"
      ]
     },
     "execution_count": 26,
     "metadata": {},
     "output_type": "execute_result"
    }
   ],
   "source": [
    "data['age'].isnull().sum()"
   ]
  },
  {
   "cell_type": "code",
   "execution_count": null,
   "id": "158f5d75",
   "metadata": {},
   "outputs": [],
   "source": []
  },
  {
   "cell_type": "code",
   "execution_count": 27,
   "id": "8a71e88b",
   "metadata": {},
   "outputs": [
    {
     "data": {
      "text/plain": [
       "30146"
      ]
     },
     "execution_count": 27,
     "metadata": {},
     "output_type": "execute_result"
    }
   ],
   "source": [
    "data['customer_country'].isnull().sum()"
   ]
  },
  {
   "cell_type": "code",
   "execution_count": 28,
   "id": "b0c9dbec",
   "metadata": {},
   "outputs": [
    {
     "data": {
      "text/plain": [
       "20.656292611397756"
      ]
     },
     "execution_count": 28,
     "metadata": {},
     "output_type": "execute_result"
    }
   ],
   "source": [
    "(30146/145941)*100"
   ]
  },
  {
   "cell_type": "code",
   "execution_count": 29,
   "id": "8c507c53",
   "metadata": {},
   "outputs": [
    {
     "data": {
      "text/plain": [
       "0"
      ]
     },
     "execution_count": 29,
     "metadata": {},
     "output_type": "execute_result"
    }
   ],
   "source": [
    "data['customer_country'] = data['customer_country'].fillna('Unknown')\n",
    "data['customer_country'].isnull().sum()"
   ]
  },
  {
   "cell_type": "code",
   "execution_count": 30,
   "id": "d47a84ac",
   "metadata": {},
   "outputs": [
    {
     "data": {
      "text/html": [
       "<div>\n",
       "<style scoped>\n",
       "    .dataframe tbody tr th:only-of-type {\n",
       "        vertical-align: middle;\n",
       "    }\n",
       "\n",
       "    .dataframe tbody tr th {\n",
       "        vertical-align: top;\n",
       "    }\n",
       "\n",
       "    .dataframe thead th {\n",
       "        text-align: right;\n",
       "    }\n",
       "</style>\n",
       "<table border=\"1\" class=\"dataframe\">\n",
       "  <thead>\n",
       "    <tr style=\"text-align: right;\">\n",
       "      <th></th>\n",
       "      <th>message_id</th>\n",
       "      <th>customer_id</th>\n",
       "      <th>sent_at</th>\n",
       "      <th>clicked</th>\n",
       "      <th>converted</th>\n",
       "      <th>client_id</th>\n",
       "      <th>gender</th>\n",
       "      <th>customer_country</th>\n",
       "      <th>age</th>\n",
       "      <th>created_at</th>\n",
       "      <th>client_name</th>\n",
       "      <th>product_type</th>\n",
       "      <th>client_country</th>\n",
       "      <th>channel</th>\n",
       "      <th>message_number</th>\n",
       "    </tr>\n",
       "  </thead>\n",
       "  <tbody>\n",
       "    <tr>\n",
       "      <th>0</th>\n",
       "      <td>28d82c62db5989d9441351f58738c6a8</td>\n",
       "      <td>f13e966f9dc1e2aa7bffec6c9efa8e11</td>\n",
       "      <td>2021-01-04 10:03:16.376000+00:00</td>\n",
       "      <td>0</td>\n",
       "      <td>0</td>\n",
       "      <td>cfcd208495d565ef66e7dff9f98764da</td>\n",
       "      <td>F</td>\n",
       "      <td>Unknown</td>\n",
       "      <td>51</td>\n",
       "      <td>2021-01-03 15:58:50.376000+00:00</td>\n",
       "      <td>SwanPay</td>\n",
       "      <td>BNPL</td>\n",
       "      <td>UK</td>\n",
       "      <td>SMS</td>\n",
       "      <td>1</td>\n",
       "    </tr>\n",
       "    <tr>\n",
       "      <th>1</th>\n",
       "      <td>0f98a1bbf7f2b66f420816a65c8d9b77</td>\n",
       "      <td>f13e966f9dc1e2aa7bffec6c9efa8e11</td>\n",
       "      <td>2021-01-12 08:34:09.376000+00:00</td>\n",
       "      <td>0</td>\n",
       "      <td>0</td>\n",
       "      <td>cfcd208495d565ef66e7dff9f98764da</td>\n",
       "      <td>F</td>\n",
       "      <td>Unknown</td>\n",
       "      <td>51</td>\n",
       "      <td>2021-01-03 15:58:50.376000+00:00</td>\n",
       "      <td>SwanPay</td>\n",
       "      <td>BNPL</td>\n",
       "      <td>UK</td>\n",
       "      <td>SMS</td>\n",
       "      <td>2</td>\n",
       "    </tr>\n",
       "  </tbody>\n",
       "</table>\n",
       "</div>"
      ],
      "text/plain": [
       "                         message_id                       customer_id  \\\n",
       "0  28d82c62db5989d9441351f58738c6a8  f13e966f9dc1e2aa7bffec6c9efa8e11   \n",
       "1  0f98a1bbf7f2b66f420816a65c8d9b77  f13e966f9dc1e2aa7bffec6c9efa8e11   \n",
       "\n",
       "                            sent_at  clicked  converted  \\\n",
       "0  2021-01-04 10:03:16.376000+00:00        0          0   \n",
       "1  2021-01-12 08:34:09.376000+00:00        0          0   \n",
       "\n",
       "                          client_id gender customer_country  age  \\\n",
       "0  cfcd208495d565ef66e7dff9f98764da      F          Unknown   51   \n",
       "1  cfcd208495d565ef66e7dff9f98764da      F          Unknown   51   \n",
       "\n",
       "                         created_at client_name product_type client_country  \\\n",
       "0  2021-01-03 15:58:50.376000+00:00     SwanPay         BNPL             UK   \n",
       "1  2021-01-03 15:58:50.376000+00:00     SwanPay         BNPL             UK   \n",
       "\n",
       "  channel  message_number  \n",
       "0     SMS               1  \n",
       "1     SMS               2  "
      ]
     },
     "execution_count": 30,
     "metadata": {},
     "output_type": "execute_result"
    }
   ],
   "source": [
    "data.head(2)"
   ]
  },
  {
   "cell_type": "code",
   "execution_count": 31,
   "id": "c87b5b6d",
   "metadata": {},
   "outputs": [],
   "source": [
    "data.to_csv('data.csv')"
   ]
  },
  {
   "cell_type": "code",
   "execution_count": 32,
   "id": "5d4c8653",
   "metadata": {},
   "outputs": [
    {
     "data": {
      "text/plain": [
       "UK         19179\n",
       "Unknown     8630\n",
       "NZ          6159\n",
       "CA          2142\n",
       "Name: customer_country, dtype: int64"
      ]
     },
     "execution_count": 32,
     "metadata": {},
     "output_type": "execute_result"
    }
   ],
   "source": [
    "SwanPay = data[data['client_name'] == 'SwanPay']\n",
    "SwanPay['customer_country'].value_counts(dropna=False)"
   ]
  },
  {
   "cell_type": "code",
   "execution_count": 33,
   "id": "412fa216",
   "metadata": {},
   "outputs": [
    {
     "data": {
      "text/plain": [
       "UK    36110\n",
       "Name: client_country, dtype: int64"
      ]
     },
     "execution_count": 33,
     "metadata": {},
     "output_type": "execute_result"
    }
   ],
   "source": [
    "SwanPay['client_country'].value_counts(dropna=False)"
   ]
  },
  {
   "cell_type": "code",
   "execution_count": 34,
   "id": "8bd4c694",
   "metadata": {},
   "outputs": [
    {
     "data": {
      "text/plain": [
       "BNPL    36110\n",
       "Name: product_type, dtype: int64"
      ]
     },
     "execution_count": 34,
     "metadata": {},
     "output_type": "execute_result"
    }
   ],
   "source": [
    "SwanPay['product_type'].value_counts(dropna=False)"
   ]
  },
  {
   "cell_type": "code",
   "execution_count": 35,
   "id": "275f73e8",
   "metadata": {},
   "outputs": [
    {
     "data": {
      "text/plain": [
       "UK         15971\n",
       "Unknown     6095\n",
       "NZ          4387\n",
       "CA          2554\n",
       "Name: customer_country, dtype: int64"
      ]
     },
     "execution_count": 35,
     "metadata": {},
     "output_type": "execute_result"
    }
   ],
   "source": [
    "Badgerbank = data[data['client_name'] == 'Badgerbank']\n",
    "Badgerbank['customer_country'].value_counts(dropna=False)"
   ]
  },
  {
   "cell_type": "code",
   "execution_count": 36,
   "id": "c12e2713",
   "metadata": {},
   "outputs": [
    {
     "data": {
      "text/plain": [
       "UK    29007\n",
       "Name: client_country, dtype: int64"
      ]
     },
     "execution_count": 36,
     "metadata": {},
     "output_type": "execute_result"
    }
   ],
   "source": [
    "Badgerbank['client_country'].value_counts(dropna=False)"
   ]
  },
  {
   "cell_type": "code",
   "execution_count": 37,
   "id": "4f2c8570",
   "metadata": {},
   "outputs": [
    {
     "data": {
      "text/plain": [
       "CA         6772\n",
       "NZ          479\n",
       "Unknown     445\n",
       "UK          407\n",
       "Name: customer_country, dtype: int64"
      ]
     },
     "execution_count": 37,
     "metadata": {},
     "output_type": "execute_result"
    }
   ],
   "source": [
    "Eagle_Energy = data[data['client_name'] == 'Eagle Energy']\n",
    "Eagle_Energy['customer_country'].value_counts(dropna=False)"
   ]
  },
  {
   "cell_type": "code",
   "execution_count": 38,
   "id": "adcd797b",
   "metadata": {},
   "outputs": [
    {
     "data": {
      "text/plain": [
       "CA    8103\n",
       "Name: client_country, dtype: int64"
      ]
     },
     "execution_count": 38,
     "metadata": {},
     "output_type": "execute_result"
    }
   ],
   "source": [
    "Eagle_Energy['client_country'].value_counts(dropna=False)"
   ]
  },
  {
   "cell_type": "code",
   "execution_count": null,
   "id": "8d041fe3",
   "metadata": {},
   "outputs": [],
   "source": []
  }
 ],
 "metadata": {
  "kernelspec": {
   "display_name": "Python 3 (ipykernel)",
   "language": "python",
   "name": "python3"
  },
  "language_info": {
   "codemirror_mode": {
    "name": "ipython",
    "version": 3
   },
   "file_extension": ".py",
   "mimetype": "text/x-python",
   "name": "python",
   "nbconvert_exporter": "python",
   "pygments_lexer": "ipython3",
   "version": "3.9.13"
  }
 },
 "nbformat": 4,
 "nbformat_minor": 5
}
